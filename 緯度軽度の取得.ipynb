{
 "cells": [
  {
   "cell_type": "code",
   "execution_count": 38,
   "id": "fdc2507e-c295-415a-9024-34a1fe06afb7",
   "metadata": {},
   "outputs": [
    {
     "name": "stdout",
     "output_type": "stream",
     "text": [
      "  warehouse  shop  value  warehouse_lat  warehouse_lon   shop_lat    shop_lon\n",
      "0       佐賀市   山口市    754      33.263913     130.300838  34.178132  131.473708\n",
      "1       佐賀市   新潟市    214      33.263913     130.300838  37.916376  139.036506\n",
      "2       佐賀市   松山市    125      33.263913     130.300838  33.839519  132.765352\n",
      "3       佐賀市   宮崎市    859      33.263913     130.300838  31.907633  131.420402\n",
      "4       佐賀市  名古屋市    381      33.263913     130.300838  35.185105  136.899844\n"
     ]
    }
   ],
   "source": [
    "import pandas as pd\n",
    "from geopy.geocoders import Nominatim\n",
    "from geopy.extra.rate_limiter import RateLimiter\n",
    "\n",
    "# CSVの読み込み\n",
    "df = pd.read_csv(\"warehouse_shop_randomized_limited.csv\")\n",
    "\n",
    "# ジオコーダーの初期化\n",
    "geolocator = Nominatim(user_agent=\"geoapi_exercise\")\n",
    "geocode = RateLimiter(geolocator.geocode, min_delay_seconds=1)\n",
    "\n",
    "# warehouseとshopの一意な地点一覧を作成\n",
    "unique_locations = pd.Series(pd.concat([df['warehouse'], df['shop']]).unique(), name=\"location\")\n",
    "\n",
    "# 緯度経度の取得\n",
    "location_coords = unique_locations.apply(geocode)\n",
    "latitudes = location_coords.apply(lambda loc: loc.latitude if loc else None)\n",
    "longitudes = location_coords.apply(lambda loc: loc.longitude if loc else None)\n",
    "\n",
    "# 緯度経度のDataFrame作成\n",
    "coords_df = pd.DataFrame({\n",
    "    \"location\": unique_locations,\n",
    "    \"latitude\": latitudes,\n",
    "    \"longitude\": longitudes\n",
    "})\n",
    "\n",
    "# 元データにマージ\n",
    "df = df.merge(coords_df, how='left', left_on='warehouse', right_on='location')\n",
    "df = df.rename(columns={\"latitude\": \"warehouse_lat\", \"longitude\": \"warehouse_lon\"}).drop(columns=[\"location\"])\n",
    "\n",
    "df = df.merge(coords_df, how='left', left_on='shop', right_on='location')\n",
    "df = df.rename(columns={\"latitude\": \"shop_lat\", \"longitude\": \"shop_lon\"}).drop(columns=[\"location\"])\n",
    "\n",
    "# 結果確認\n",
    "print(df.head())\n",
    "\n",
    "# 保存（必要に応じて）\n",
    "df.to_csv(\"warehouse_shop_with_coordinates.csv\", index=False)"
   ]
  }
 ],
 "metadata": {
  "kernelspec": {
   "display_name": "Python 3 (ipykernel)",
   "language": "python",
   "name": "python3"
  },
  "language_info": {
   "codemirror_mode": {
    "name": "ipython",
    "version": 3
   },
   "file_extension": ".py",
   "mimetype": "text/x-python",
   "name": "python",
   "nbconvert_exporter": "python",
   "pygments_lexer": "ipython3",
   "version": "3.12.4"
  }
 },
 "nbformat": 4,
 "nbformat_minor": 5
}
